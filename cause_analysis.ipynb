{
 "cells": [
  {
   "cell_type": "code",
   "execution_count": null,
   "id": "medium-philip",
   "metadata": {},
   "outputs": [],
   "source": [
    "import pandas as pd\n",
    "import matplotlib.pyplot as plt\n",
    "import numpy as np\n",
    "import altair as alt\n",
    "import warnings\n",
    "warnings.filterwarnings('ignore')\n",
    "\n",
    "damage19_path = \"Resources/2019_fire_damages.csv\"\n",
    "damage18_path = \"Resources/2018_fire_damage.csv\"\n",
    "damage17_path = \"Resources/2017_fire_damage.csv\"\n",
    "damage16_path = \"Resources/2016_fire_damage.csv\"\n",
    "damage19_df = pd.read_csv(damage19_path)\n",
    "damage18_df = pd.read_csv(damage18_path)\n",
    "damage17_df = pd.read_csv(damage17_path)\n",
    "damage17_df = damage17_df.rename(columns = {\"Total Region\":\"Region Total\"})\n",
    "damage16_df = pd.read_csv(damage16_path)\n",
    "damage16_df = damage16_df.rename(columns = {\"Total Region\":\"Region Total\"})"
   ]
  },
  {
   "cell_type": "code",
   "execution_count": null,
   "id": "sapphire-latvia",
   "metadata": {},
   "outputs": [],
   "source": [
    "# Top Causes for Wildfire Damage\n",
    "\n",
    "# create dataframe with cause analysis totals\n",
    "df1 = damage19_df.drop(columns = ['Region', 'Region Total'])\n",
    "total_cause19 = pd.DataFrame(df1.loc[25,:])\n",
    "total_cause19 = total_cause19.rename(columns = {25:'2019 State Total'})\n",
    "\n",
    "df2 = damage18_df.drop(columns = ['Region', 'Region Total'])\n",
    "total_cause18 = pd.DataFrame(df2.loc[25,:])\n",
    "total_cause18 = total_cause18.rename(columns = {25:'2018 State Total'})\n",
    "\n",
    "df3 = damage17_df.drop(columns = ['Region', 'Region Total'])\n",
    "total_cause17 = pd.DataFrame(df3.loc[25,:])\n",
    "total_cause17 = total_cause17.rename(columns = {25:'2017 State Total'})\n",
    "\n",
    "df4 = damage16_df.drop(columns = ['Region', 'Region Total'])\n",
    "total_cause16 = pd.DataFrame(df4.loc[25,:])\n",
    "total_cause16 = total_cause16.rename(columns = {25:'2016 State Total'})\n",
    "\n",
    "cause_damages = pd.concat([total_cause19, total_cause18, total_cause17, total_cause16], axis = 1)"
   ]
  },
  {
   "cell_type": "code",
   "execution_count": null,
   "id": "adult-basin",
   "metadata": {},
   "outputs": [],
   "source": [
    "# plot\n",
    "cause_damages.plot.bar(figsize = (12, 10))\n",
    "plt.xlabel(\"Human Causes\")\n",
    "plt.ylabel(\"Cost in Trillions\")\n",
    "plt.title(\"Cost of Human Causes per Year\")\n",
    "plt.show()"
   ]
  },
  {
   "cell_type": "code",
   "execution_count": null,
   "id": "mysterious-generic",
   "metadata": {},
   "outputs": [],
   "source": [
    "# This graph shows the various human causes that seem to cause the most wildfire damage from years 2019-2016. Electric power\n",
    "# by far has been the most prevalent cause for most wildfire damages, with three years of electric power being the one to cause the most damage. The second would be\n",
    "# from vehicular accidents. The third would be from either Arson or a miscellaneous cause which was often campfire related."
   ]
  },
  {
   "cell_type": "code",
   "execution_count": null,
   "id": "sacred-diagram",
   "metadata": {},
   "outputs": [],
   "source": [
    "# Plot human causes per region\n",
    "# 2019\n",
    "nine_df2 = nine_df.drop(columns = ['Region Total'])\n",
    "nine_df2.plot.bar(x = 'Region', figsize = (8, 5))\n",
    "plt.xlabel(\"Region\")\n",
    "plt.ylabel(\"Cost in Trillions\")\n",
    "plt.title(\"2019 Human Causes per Region\")\n",
    "plt.show()\n",
    "# 2018\n",
    "eight_df2 = eight_df.drop(columns = ['Region Total'])\n",
    "eight_df2.plot.bar(x = 'Region', figsize = (8, 5))\n",
    "plt.xlabel(\"Region\")\n",
    "plt.ylabel(\"Cost in Trillions\")\n",
    "plt.title(\"2018 Human Causes per Region\")\n",
    "plt.show()\n",
    "# 2017\n",
    "seven_df2 = seven_df.drop(columns = ['Region Total'])\n",
    "seven_df2.plot.bar(x = 'Region', figsize = (8, 5))\n",
    "plt.xlabel(\"Region\")\n",
    "plt.ylabel(\"Cost in Trillions\")\n",
    "plt.title(\"2017 Human Causes per Region\")\n",
    "plt.show()\n",
    "# 2016\n",
    "six_df2 = six_df.drop(columns = ['Region Total'])\n",
    "six_df2.plot.bar(x = 'Region', figsize = (8, 5))\n",
    "plt.xlabel(\"Region\")\n",
    "plt.ylabel(\"Cost in Trillions\")\n",
    "plt.title(\"2016 Human Causes per Region\")\n",
    "plt.show()"
   ]
  },
  {
   "cell_type": "code",
   "execution_count": null,
   "id": "dried-speaking",
   "metadata": {},
   "outputs": [],
   "source": [
    "# These sets of graphs show the major human causes per unit from 2019-2016. These graphs show similar\n",
    "# results to the previous graphs: Sonoma-Lake-Napa seems to be the most common region for costly\n",
    "# wildfires, with electric power, arson, and vehicular use being the top reasons for wildfires. Based upon previous data sets that we reviewed."
   ]
  }
 ],
 "metadata": {
  "kernelspec": {
   "display_name": "Python [conda env:PythonData] *",
   "language": "python",
   "name": "conda-env-PythonData-py"
  },
  "language_info": {
   "codemirror_mode": {
    "name": "ipython",
    "version": 3
   },
   "file_extension": ".py",
   "mimetype": "text/x-python",
   "name": "python",
   "nbconvert_exporter": "python",
   "pygments_lexer": "ipython3",
   "version": "3.6.10"
  }
 },
 "nbformat": 4,
 "nbformat_minor": 5
}